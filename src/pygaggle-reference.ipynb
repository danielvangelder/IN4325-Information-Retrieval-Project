{
 "cells": [
  {
   "cell_type": "markdown",
   "id": "linear-neighbor",
   "metadata": {},
   "source": [
    "# Introduction\n",
    "This notebook will walk through the basics of learn-to-rank using [pygaggle](https://github.com/castorini/pygaggle).\n",
    "\n",
    "This is the CLI command to run the passage reranking challenge using the Mono T5 algorithm:"
   ]
  },
  {
   "cell_type": "markdown",
   "id": "regulation-executive",
   "metadata": {},
   "source": [
    "```shell\n",
    "python -um pygaggle.run.evaluate_passage_ranker --split dev \\\n",
    "                                                --method t5 \\\n",
    "                                                --model castorini/monot5-base-msmarco \\\n",
    "                                                --dataset collections/msmarco-passage \\\n",
    "                                                --model-type t5-base \\\n",
    "                                                --task msmarco \\\n",
    "                                                --index-dir indexes/msmarco-passage \\\n",
    "                                                --batch-size 32 \\\n",
    "                                                --output-file runs/run.monot5.ans_small.dev.tsv\n",
    "```"
   ]
  },
  {
   "cell_type": "markdown",
   "id": "filled-scanning",
   "metadata": {},
   "source": [
    "However, we will try to do this in a pythonian manner. First, we import the relevant libraries and the (pretrained) ranking algorithm `MonoT5` ([link?](https://towardsdatascience.com/asking-the-right-questions-training-a-t5-transformer-model-on-a-new-task-691ebba2d72c), [paper](https://arxiv.org/pdf/2003.06713.pdf)):"
   ]
  },
  {
   "cell_type": "code",
   "execution_count": 1,
   "id": "assumed-interest",
   "metadata": {},
   "outputs": [
    {
     "name": "stderr",
     "output_type": "stream",
     "text": [
      "2021-02-27 15:22:53 [INFO] loader: Loading faiss.\n"
     ]
    },
    {
     "data": {
      "application/vnd.jupyter.widget-view+json": {
       "model_id": "45d1f7cc07134c2b81633f21febf4ed9",
       "version_major": 2,
       "version_minor": 0
      },
      "text/plain": [
       "HBox(children=(FloatProgress(value=0.0, description='Downloading', max=1841.0, style=ProgressStyle(description…"
      ]
     },
     "metadata": {},
     "output_type": "display_data"
    },
    {
     "name": "stdout",
     "output_type": "stream",
     "text": [
      "\n"
     ]
    },
    {
     "data": {
      "application/vnd.jupyter.widget-view+json": {
       "model_id": "7a77d307aaff48d8a2ab894d300712d3",
       "version_major": 2,
       "version_minor": 0
      },
      "text/plain": [
       "HBox(children=(FloatProgress(value=0.0, description='Downloading', max=891691413.0, style=ProgressStyle(descri…"
      ]
     },
     "metadata": {},
     "output_type": "display_data"
    },
    {
     "name": "stdout",
     "output_type": "stream",
     "text": [
      "\n"
     ]
    },
    {
     "name": "stderr",
     "output_type": "stream",
     "text": [
      "Some weights of the model checkpoint at castorini/monot5-base-msmarco were not used when initializing T5ForConditionalGeneration: ['decoder.block.0.layer.1.EncDecAttention.relative_attention_bias.weight']\n",
      "- This IS expected if you are initializing T5ForConditionalGeneration from the checkpoint of a model trained on another task or with another architecture (e.g. initializing a BertForSequenceClassification model from a BertForPreTraining model).\n",
      "- This IS NOT expected if you are initializing T5ForConditionalGeneration from the checkpoint of a model that you expect to be exactly identical (initializing a BertForSequenceClassification model from a BertForSequenceClassification model).\n"
     ]
    },
    {
     "data": {
      "application/vnd.jupyter.widget-view+json": {
       "model_id": "84d206ab27f240318cccb5f883ca37d4",
       "version_major": 2,
       "version_minor": 0
      },
      "text/plain": [
       "HBox(children=(FloatProgress(value=0.0, description='Downloading', max=1199.0, style=ProgressStyle(description…"
      ]
     },
     "metadata": {},
     "output_type": "display_data"
    },
    {
     "name": "stdout",
     "output_type": "stream",
     "text": [
      "\n"
     ]
    },
    {
     "data": {
      "application/vnd.jupyter.widget-view+json": {
       "model_id": "91ba7193aae74d97ad4ab2e7c691e234",
       "version_major": 2,
       "version_minor": 0
      },
      "text/plain": [
       "HBox(children=(FloatProgress(value=0.0, description='Downloading', max=791656.0, style=ProgressStyle(descripti…"
      ]
     },
     "metadata": {},
     "output_type": "display_data"
    },
    {
     "name": "stdout",
     "output_type": "stream",
     "text": [
      "\n"
     ]
    }
   ],
   "source": [
    "from pygaggle.rerank.base import Query, Text\n",
    "from pygaggle.rerank.transformer import MonoT5\n",
    "from pygaggle.rerank.base import hits_to_texts\n",
    "\n",
    "reranker =  MonoT5()"
   ]
  },
  {
   "cell_type": "markdown",
   "id": "responsible-charles",
   "metadata": {},
   "source": [
    "Now we will import the text from the MS-MARCO dataset and try to re-rank some passages for the queries.\n",
    "\n",
    "**Why re-rank instead of rank?** It is infeasible for a learner to rank all passages in the corpus, therefore we let a conventional retrieval method find a list of ranked _candidates_ that will be re-ranked by the L2R algorithm.\n",
    "\n",
    "We run the example from the pygaggle [Github page](https://github.com/castorini/pygaggle) as a toy problem:"
   ]
  },
  {
   "cell_type": "code",
   "execution_count": 28,
   "id": "caroline-publisher",
   "metadata": {},
   "outputs": [
    {
     "name": "stdout",
     "output_type": "stream",
     "text": [
      "{'raw': '{\\n  \"id\" : \"7744105\",\\n  \"contents\" : \"For Earth-centered it was  Geocentric Theory proposed by greeks under the guidance of Ptolemy and Sun-centered was Heliocentric theory proposed by Nicolas Copernicus in 16th century A.D. In short, Your Answers are: 1st blank - Geo-Centric Theory. 2nd blank - Heliocentric Theory.\"\\n}', 'docid': '7744105'}\n",
      " 1, score: -0.00887, document: {\n",
      "  \"id\" : \"7744105\",\n",
      "  \"contents\" : \"For Earth-centered it was  Geocentric Theory proposed by greeks under the guidance of Ptolemy and Sun-centered was Heliocentric theory proposed by Nicolas Copernicus in 16th century A.D. In short, Your Answers are: 1st blank - Geo-Centric Theory. 2nd blank - Heliocentric Theory.\"\n",
      "}\n",
      " 2, score: -0.01464, document: {\n",
      "  \"id\" : \"6217200\",\n",
      "  \"contents\" : \"The geocentric model, also known as the Ptolemaic system, is a theory that was developed by philosophers in Ancient Greece and was named after the philosopher Claudius Ptolemy who lived circa 90 to 168 A.D. It was developed to explain how the planets, the Sun, and even the stars orbit around the Earth.opernicus proposed a heliocentric model of the solar system â a model where everything orbited around the Sun. Today, with advancements in science and technology, the geocentric model seems preposterous.\"\n",
      "}\n",
      " 3, score: -0.02709, document: {\n",
      "  \"id\" : \"264181\",\n",
      "  \"contents\" : \"Nicolaus Copernicus (b. 1473âd. 1543) was the first modern author to propose a heliocentric theory of the universe. From the time that Ptolemy of Alexandria (c. 150 CE) constructed a mathematically competent version of geocentric astronomy to Copernicusâs mature heliocentric version (1543), experts knew that the Ptolemaic system diverged from the geocentric concentric-sphere conception of Aristotle.\"\n",
      "}\n",
      " 4, score: -0.03716, document: {\n",
      "  \"id\" : \"2593796\",\n",
      "  \"contents\" : \"Copernicus proposed a heliocentric model of the solar system â a model where everything orbited around the Sun. Today, with advancements in science and technology, the geocentric model seems preposterous.he geocentric model, also known as the Ptolemaic system, is a theory that was developed by philosophers in Ancient Greece and was named after the philosopher Claudius Ptolemy who lived circa 90 to 168 A.D. It was developed to explain how the planets, the Sun, and even the stars orbit around the Earth.\"\n",
      "}\n",
      " 5, score: -0.04478, document: {\n",
      "  \"id\" : \"5183032\",\n",
      "  \"contents\" : \"After 1,400 years, Copernicus was the first to propose a theory which differed from Ptolemy's geocentric system, according to which the earth is at rest in the center with the rest of the planets revolving around it.\"\n",
      "}\n",
      " 6, score: -0.04596, document: {\n",
      "  \"id\" : \"3276925\",\n",
      "  \"contents\" : \"Copernicus proposed a heliocentric model of the solar system â a model where everything orbited around the Sun. Today, with advancements in science and technology, the geocentric model seems preposterous.Simple tools, such as the telescope â which helped convince Galileo that the Earth was not the center of the universe â can prove that ancient theory incorrect.ou might want to check out one article on the history of the geocentric model and one regarding the geocentric theory. Here are links to two other articles from Universe Today on what the center of the universe is and Galileo one of the advocates of the heliocentric model.\"\n",
      "}\n",
      " 7, score: -0.04812, document: {\n",
      "  \"id\" : \"3276926\",\n",
      "  \"contents\" : \"The geocentric model, also known as the Ptolemaic system, is a theory that was developed by philosophers in Ancient Greece and was named after the philosopher Claudius Ptolemy who lived circa 90 to 168 A.D. It was developed to explain how the planets, the Sun, and even the stars orbit around the Earth.ou might want to check out one article on the history of the geocentric model and one regarding the geocentric theory. Here are links to two other articles from Universe Today on what the center of the universe is and Galileo one of the advocates of the heliocentric model.\"\n",
      "}\n",
      " 8, score: -0.05214, document: {\n",
      "  \"id\" : \"4280557\",\n",
      "  \"contents\" : \"The geocentric model, also known as the Ptolemaic system, is a theory that was developed by philosophers in Ancient Greece and was named after the philosopher Claudius Ptolemy who lived circa 90 to 168 A.D. It was developed to explain how the planets, the Sun, and even the stars orbit around the Earth.imple tools, such as the telescope â which helped convince Galileo that the Earth was not the center of the universe â can prove that ancient theory incorrect. You might want to check out one article on the history of the geocentric model and one regarding the geocentric theory.\"\n",
      "}\n",
      " 9, score: -0.05808, document: {\n",
      "  \"id\" : \"6217208\",\n",
      "  \"contents\" : \"Copernicus proposed a heliocentric model of the solar system â a model where everything orbited around the Sun. Today, with advancements in science and technology, the geocentric model seems preposterous.Simple tools, such as the telescope â which helped convince Galileo that the Earth was not the center of the universe â can prove that ancient theory incorrect.opernicus proposed a heliocentric model of the solar system â a model where everything orbited around the Sun. Today, with advancements in science and technology, the geocentric model seems preposterous.\"\n",
      "}\n",
      "10, score: -4.25100, document: {\n",
      "  \"id\" : \"4280558\",\n",
      "  \"contents\" : \"A Geocentric theory is an astronomical theory which describes the universe as a Geocentric system, i.e., a system which puts the Earth in the center of the universe, and describes other objects from the point of view of the Earth. Geocentric theory is an astronomical theory which describes the universe as a Geocentric system, i.e., a system which puts the Earth in the center of the universe, and describes other objects from the point of view of the Earth.\"\n",
      "}\n"
     ]
    }
   ],
   "source": [
    "# Here's our query:\n",
    "query = Query('who proposed the geocentric theory')\n",
    "\n",
    "# fetch some passages to rerank from MS MARCO with Pyserini (BM25)\n",
    "from pyserini.search import SimpleSearcher\n",
    "searcher = SimpleSearcher('indexes/msmarco-passage/lucene-index-msmarco')\n",
    "hits = searcher.search(query.text)\n",
    "\n",
    "# Optionally: print out the passages prior to reranking (might be interesting to see how the order changes):\n",
    "# for i in range(0, 10):\n",
    "#     print(f'{i+1:2} {texts[i].metadata[\"docid\"]:15} {texts[i].score:.5f} {texts[i].text}')\n",
    "\n",
    "# Rerank:\n",
    "reranked = reranker.rerank(query, texts)\n",
    "reranked.sort(key=lambda x: x.score, reverse=True)\n",
    "print(reranked[0].metadata)\n",
    "# Print out reranked results:\n",
    "for i in range(0, 10):\n",
    "    print(f'{i+1:2}, score: {reranked[i].score:.5f}, document: {reranked[i].text}')"
   ]
  },
  {
   "cell_type": "markdown",
   "id": "palestinian-cartoon",
   "metadata": {},
   "source": [
    "Toy problems are not sufficient for ranking the whole test set. Therefore, we will try to load all queries in the dataset."
   ]
  },
  {
   "cell_type": "code",
   "execution_count": 27,
   "id": "organizational-probe",
   "metadata": {},
   "outputs": [
    {
     "name": "stdout",
     "output_type": "stream",
     "text": [
      "1048585 what is paula deen's brother\n",
      "2  Androgen receptor define\n",
      "524332 treating tension headaches without medication\n",
      "1048642 what is paranoid sc\n",
      "524447 treatment of varicose veins in legs\n",
      "786674 what is prime rate in canada\n",
      "1048876 who plays young dr mallard on ncis\n",
      "1048917 what is operating system misconfiguration\n",
      "786786 what is priority pass\n",
      "524699 tricare service number\n"
     ]
    }
   ],
   "source": [
    "queries = []\n",
    "QUERIES_PATH = 'collections/msmarco-passage/queries.dev.small.tsv'\n",
    "with open(QUERIES_PATH) as f:\n",
    "    content = f.readlines()\n",
    "    # you may also want to remove whitespace characters like `\\n` at the end of each line\n",
    "    content = [x.strip().split('\\t') for x in content] \n",
    "    queries = [Query(x[1], x[0]) for x in content]\n",
    "for q in queries[:10]:\n",
    "    print(q.id, q.text)"
   ]
  },
  {
   "cell_type": "markdown",
   "id": "outdoor-richardson",
   "metadata": {},
   "source": [
    "Alright, now we are ready to start re-ranking all documents. We should first define a function for outputting a file of the ranked documents (either in `csv` or `tsv` format). "
   ]
  },
  {
   "cell_type": "code",
   "execution_count": 47,
   "id": "after-intermediate",
   "metadata": {},
   "outputs": [
    {
     "name": "stdout",
     "output_type": "stream",
     "text": [
      "7744105\n"
     ]
    },
    {
     "ename": "TypeError",
     "evalue": "'Text' object is not subscriptable",
     "output_type": "error",
     "traceback": [
      "\u001b[0;31m---------------------------------------------------------------------------\u001b[0m",
      "\u001b[0;31mTypeError\u001b[0m                                 Traceback (most recent call last)",
      "\u001b[0;32m<ipython-input-47-a18bdd752d12>\u001b[0m in \u001b[0;36m<module>\u001b[0;34m\u001b[0m\n\u001b[1;32m     23\u001b[0m                         + r[j].metadata['docid'] + '\\t' + str(j) + r[j].score + '\\n')\n\u001b[1;32m     24\u001b[0m \u001b[0mquery\u001b[0m\u001b[0;34m.\u001b[0m\u001b[0mid\u001b[0m \u001b[0;34m=\u001b[0m \u001b[0;36m11\u001b[0m\u001b[0;34m\u001b[0m\u001b[0;34m\u001b[0m\u001b[0m\n\u001b[0;32m---> 25\u001b[0;31m \u001b[0moutput_to_csv\u001b[0m\u001b[0;34m(\u001b[0m\u001b[0;34m[\u001b[0m\u001b[0mquery\u001b[0m\u001b[0;34m]\u001b[0m\u001b[0;34m,\u001b[0m \u001b[0;34m[\u001b[0m\u001b[0mreranked\u001b[0m\u001b[0;34m]\u001b[0m\u001b[0;34m,\u001b[0m \u001b[0;34m'testrun.csv'\u001b[0m\u001b[0;34m)\u001b[0m\u001b[0;34m\u001b[0m\u001b[0;34m\u001b[0m\u001b[0m\n\u001b[0m\u001b[1;32m     26\u001b[0m \u001b[0moutput_to_tsv\u001b[0m\u001b[0;34m(\u001b[0m\u001b[0;34m[\u001b[0m\u001b[0mquery\u001b[0m\u001b[0;34m]\u001b[0m\u001b[0;34m,\u001b[0m \u001b[0;34m[\u001b[0m\u001b[0mreranked\u001b[0m\u001b[0;34m]\u001b[0m\u001b[0;34m,\u001b[0m \u001b[0;34m'testrun.tsv'\u001b[0m\u001b[0;34m)\u001b[0m\u001b[0;34m\u001b[0m\u001b[0;34m\u001b[0m\u001b[0m\n",
      "\u001b[0;32m<ipython-input-47-a18bdd752d12>\u001b[0m in \u001b[0;36moutput_to_csv\u001b[0;34m(queries, rankings, file_path)\u001b[0m\n\u001b[1;32m      9\u001b[0m                 f.write(str(q.id) \n\u001b[1;32m     10\u001b[0m                         \u001b[0;34m+\u001b[0m \u001b[0;34m'\\s'\u001b[0m\u001b[0;34m\u001b[0m\u001b[0;34m\u001b[0m\u001b[0m\n\u001b[0;32m---> 11\u001b[0;31m                         \u001b[0;34m+\u001b[0m \u001b[0mstr\u001b[0m\u001b[0;34m(\u001b[0m\u001b[0mr\u001b[0m\u001b[0;34m[\u001b[0m\u001b[0mj\u001b[0m\u001b[0;34m]\u001b[0m\u001b[0;34m.\u001b[0m\u001b[0mmetadata\u001b[0m\u001b[0;34m[\u001b[0m\u001b[0;34m'docid'\u001b[0m\u001b[0;34m]\u001b[0m\u001b[0;34m)\u001b[0m\u001b[0;34m\u001b[0m\u001b[0;34m\u001b[0m\u001b[0m\n\u001b[0m\u001b[1;32m     12\u001b[0m                         \u001b[0;34m+\u001b[0m \u001b[0;34m'\\s'\u001b[0m \u001b[0;34m+\u001b[0m \u001b[0mstr\u001b[0m\u001b[0;34m(\u001b[0m\u001b[0mj\u001b[0m\u001b[0;34m)\u001b[0m\u001b[0;34m\u001b[0m\u001b[0;34m\u001b[0m\u001b[0m\n\u001b[1;32m     13\u001b[0m                         \u001b[0;34m+\u001b[0m \u001b[0mr\u001b[0m\u001b[0;34m[\u001b[0m\u001b[0mj\u001b[0m\u001b[0;34m]\u001b[0m\u001b[0;34m.\u001b[0m\u001b[0mscore\u001b[0m\u001b[0;34m\u001b[0m\u001b[0;34m\u001b[0m\u001b[0m\n",
      "\u001b[0;31mTypeError\u001b[0m: 'Text' object is not subscriptable"
     ]
    }
   ],
   "source": [
    "def output_to_csv(queries, rankings, file_path='runs/monot5.csv'):\n",
    "    '''Desired output format: 'query_id', 'doc_id', 'rank', 'score'\n",
    "    '''\n",
    "    with open(file_path, 'w') as f:\n",
    "        for (i,q) in enumerate(queries):\n",
    "            r = rankings[i]\n",
    "            print(r[i].metadata['docid'])\n",
    "            for (j,r) in enumerate(r):\n",
    "                f.write(str(q.id) \n",
    "                        + '\\s' \n",
    "                        + str(r[j].metadata['docid'])\n",
    "                        + '\\s' + str(j) \n",
    "                        + r[j].score \n",
    "                        + '\\n')\n",
    "def output_to_tsv(queries, rankings, file_path='runs/monot5.csv'):\n",
    "    '''Desired output format: 'query_id', 'doc_id', 'rank', 'score'\n",
    "    '''\n",
    "    with open(file_path, 'w') as f:\n",
    "        for (i,q) in enumerate(queries):\n",
    "            r = rankings[i]\n",
    "            for (j,r) in enumerate(r):\n",
    "                f.write(str(q.id) + '\\t' \n",
    "                        + r[j].metadata['docid'] + '\\t' + str(j) + r[j].score + '\\n')\n",
    "query.id = 11\n",
    "output_to_csv([query], [reranked], 'testrun.csv')\n",
    "output_to_tsv([query], [reranked], 'testrun.tsv')"
   ]
  }
 ],
 "metadata": {
  "kernelspec": {
   "display_name": "Python 3",
   "language": "python",
   "name": "python3"
  },
  "language_info": {
   "codemirror_mode": {
    "name": "ipython",
    "version": 3
   },
   "file_extension": ".py",
   "mimetype": "text/x-python",
   "name": "python",
   "nbconvert_exporter": "python",
   "pygments_lexer": "ipython3",
   "version": "3.8.5"
  }
 },
 "nbformat": 4,
 "nbformat_minor": 5
}
