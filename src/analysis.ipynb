{
 "metadata": {
  "language_info": {
   "codemirror_mode": {
    "name": "ipython",
    "version": 3
   },
   "file_extension": ".py",
   "mimetype": "text/x-python",
   "name": "python",
   "nbconvert_exporter": "python",
   "pygments_lexer": "ipython3",
   "version": "3.7.9-final"
  },
  "orig_nbformat": 2,
  "kernelspec": {
   "name": "python3",
   "display_name": "Python 3.7.9 64-bit",
   "metadata": {
    "interpreter": {
     "hash": "6517e324ec9dcf41a34bac95748c49ce676fe8f2d7422e34b5859cd3f859ad06"
    }
   }
  }
 },
 "nbformat": 4,
 "nbformat_minor": 2,
 "cells": [
  {
   "cell_type": "code",
   "execution_count": null,
   "metadata": {},
   "outputs": [],
   "source": [
    "# Questions we aim to answer in the analysis\n",
    "# 1) Behavior on top relevant documents [How many of the top documents for this system were relevant and could they be categorized and distinguished from others?]\n",
    "# 2) Behavior on top non-relevant documents [Why were the top non-relevant documents retrieved?] Behavior on unretrieved relevant documents [Why weren’t these relevant documents retrieved within the top 1000?]\n",
    "# x) Beadplot observations [How does the ranking (especially among the top 50 documents) of this system compare to all other systems?]\n",
    "# 3) Base Query observations [What did the system think were the important terms of the original query, and were they good?]\n",
    "# 4) Expanded Query observations [If the system expanded the query (4 out of 6 systems did), what were the important terms of the expansion, and were they helpful?]\n",
    "# 5) Blunders of system [What obvious mistakes did the system make that it could have easily avoided? Examples might be bad stemming of words or bad handling of hyphenation] Other features of note [Anything else.]\n",
    "# 6) What should system to do improve performance? [The individual’s conclusion as to why the system did not retrieve well, and recommendations as to what would have made a better retrieval.]\n",
    "# 7) What added information would help performance? How can system get that information? [Is there implicit information in the query, that a human would understand but the system didn’t? Examples might be world knowledge (like Germany is part of Europe).]"
   ]
  },
  {
   "cell_type": "code",
   "execution_count": null,
   "metadata": {},
   "outputs": [],
   "source": [
    "import pandas as pd\n",
    "\n",
    "# Reads the output of a model.\n",
    "# Lines in the output should be in the form [query_id, doc_id, rank]\n",
    "# TODO: might need to add score to this.\n",
    "def read_results(loc):\n",
    "    d = pd.read_csv(loc, sep='\\t', header=None, names=['query_id', 'doc_id', 'rank'])\n",
    "    return d\n",
    "\n",
    "# Gets the ranking of a query.\n",
    "def get_ranking_by_query_id(d, query_id):\n",
    "    ranking = d.loc[d.query_id == query_id][['doc_id', 'rank']].sort_values(by=['rank'])['doc_id'].tolist()\n",
    "    return ranking\n",
    "\n",
    "d = read_results(\"../anserini/runs/run.msmarco-passage.dev.small.tsv\")"
   ]
  },
  {
   "cell_type": "code",
   "execution_count": null,
   "metadata": {},
   "outputs": [],
   "source": [
    "def read_qrels(loc):\n",
    "    d = pd.read_csv(loc, names=['query_id', 'Q0', 'doc_id', 'rating'], sep=' ', header=None)\n",
    "    del d['Q0']\n",
    "    return d\n",
    "\n",
    "def get_relevant_doc_ids(qrels, query_id):\n",
    "    doc_ids = qrels.loc[(qrels.query_id == query_id) & (qrels.rating > 1)][['doc_id', 'rating']]\n",
    "    return doc_ids\n",
    "\n",
    "qrels = read_qrels('../anserini/collections/msmarco-passage/2019qrels-pass.txt')\n",
    "print(get_relevant_doc_ids(qrels, 19335))"
   ]
  },
  {
   "cell_type": "code",
   "execution_count": null,
   "metadata": {},
   "outputs": [],
   "source": [
    "# 1) Behavior on top relevant documents [How many of the top documents for this system were relevant and could they be categorized and distinguished from others?]"
   ]
  }
 ]
}