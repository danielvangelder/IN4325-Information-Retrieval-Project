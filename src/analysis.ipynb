{
 "cells": [
  {
   "cell_type": "markdown",
   "metadata": {},
   "source": [
    "Questions we aim to answer in the analysis\n",
    "1. Behavior on top relevant documents [How many of the top documents for this system were relevant and could they be categorized and distinguished from others?]\n",
    "2. Behavior on top non-relevant documents [Why were the top non-relevant documents retrieved?] Behavior on unretrieved relevant documents [Why weren’t these relevant documents retrieved within the top 1000?]\n",
    "\n",
    "    x. Beadplot observations [How does the ranking (especially among the top 50 documents) of this system compare to all other systems?]\n",
    "\n",
    "3. Base Query observations [What did the system think were the important terms of the original query, and were they good?]\n",
    "4. Expanded Query observations [If the system expanded the query (4 out of 6 systems did), what were the important terms of the expansion, and were they helpful?]\n",
    "5. Blunders of system [What obvious mistakes did the system make that it could have easily avoided? Examples might be bad stemming of words or bad handling of hyphenation] Other features of note [Anything else.]\n",
    "6. What should system to do improve performance? [The individual’s conclusion as to why the system did not retrieve well, and recommendations as to what would have made a better retrieval.]\n",
    "7. What added information would help performance? How can system get that information? [Is there implicit information in the query, that a human would understand but the system didn’t? Examples might be world knowledge (like Germany is part of Europe).]"
   ]
  },
  {
   "cell_type": "markdown",
   "metadata": {},
   "source": [
    "**Important**: define local paths to result files so that these can be used for analysis. If your files are in a different location or format, change the values of these constants."
   ]
  },
  {
   "cell_type": "code",
   "execution_count": 1,
   "metadata": {},
   "outputs": [],
   "source": [
    "# Path to output file of the model in TREC format\n",
    "MODEL_OUTPUT_PATH = 'runs/passage_reranking_monot5.tsv'\n",
    "# Separator used in output file between values\n",
    "SEPARATOR = '\\t'\n",
    "# Path to MS-MARCO evaluation queries\n",
    "MSMARCO_QUERIES_PATH = 'collections/msmarco-passage/msmarco-test2019-queries.tsv' \n",
    "# Path to Qrels file of the aforementioned queries\n",
    "MSMARCO_QRELS_PATH = 'collections/msmarco-passage/2019qrels-pass.txt'\n",
    "# Path to indexes of the MSMARCO dataset\n",
    "INDEX_PATH = 'indexes/lucene-index-msmarco-passage'\n",
    "# Path to TREC evaluation file\n",
    "TREC_EVAL_PATH = 'tools/eval/trec_eval.9.0.4/trec_eval'"
   ]
  },
  {
   "cell_type": "code",
   "execution_count": 2,
   "metadata": {},
   "outputs": [],
   "source": [
    "import pandas as pd\n",
    "\n",
    "# Reads the output of a model.\n",
    "# Lines in the output should be in the form [query_id, doc_id, rank] with sep = '\\t'.\n",
    "def read_results_tsv(loc):\n",
    "    d = pd.read_csv(loc, sep='\\t', header=None, names=['query_id', 'doc_id', 'rank', 'score'])\n",
    "    return d\n",
    "\n",
    "# Reads the output of a model.\n",
    "# Lines in the output should be in the form [query_id, doc_id, rank] with sep=' '.\n",
    "def read_results_csv(loc):\n",
    "    d = pd.read_csv(loc, sep=' ', header=None, names=['query_id', 'doc_id', 'rank', 'score'])\n",
    "    return d\n",
    "\n",
    "# Gets the ranking of a query.\n",
    "def get_ranking_by_query_id(d, query_id):\n",
    "    ranking = d.loc[d.query_id == query_id][['doc_id', 'rank']].sort_values(by=['rank'])['doc_id'].tolist()\n",
    "    return ranking"
   ]
  },
  {
   "cell_type": "code",
   "execution_count": 3,
   "metadata": {},
   "outputs": [],
   "source": [
    "import numpy as np\n",
    "\n",
    "# Reads the relevant documents from the given qrels file.\n",
    "def read_qrels(loc):\n",
    "    d = pd.read_csv(loc, names=['query_id', 'Q0', 'doc_id', 'rating'], sep=' ', header=None)\n",
    "    del d['Q0']\n",
    "    return d\n",
    "\n",
    "def read_trec_results(separator, path):\n",
    "    '''Reads the results file that is in TREC format: query_id, Q0, doc_id, rank, score separates as a csv'''\n",
    "    d = pd.read_csv(path, sep=separator, header=None, names=['query_id', 'Q0', 'doc_id', 'rank', 'score', 'run_name'])\n",
    "    # Remove redundant columns\n",
    "    del d['Q0']\n",
    "    del d['run_name']\n",
    "    return d\n",
    "\n",
    "# Gets the relevant document for the given query id.\n",
    "def get_non_relevant_doc_ids(qrels, query_id):\n",
    "    doc_ids = qrels.loc[(qrels.query_id == query_id) & (qrels.rating < 2)][['doc_id', 'rating']]\n",
    "    return doc_ids\n",
    "\n",
    "# Gets the relevant document for the given query id.\n",
    "def get_relevant_doc_ids(qrels, query_id):\n",
    "    doc_ids = qrels.loc[(qrels.query_id == query_id) & (qrels.rating >= 2)][['doc_id', 'rating']]\n",
    "    return doc_ids\n",
    "\n",
    "def get_recall_per_query(qrels, results, n):\n",
    "    recalls = {}\n",
    "    for query_id in qrels.query_id.unique():\n",
    "        ranking = get_ranking_by_query_id(results, query_id)\n",
    "        relevant = get_relevant_doc_ids(qrels, query_id)\n",
    "        recalls[query_id] = 0\n",
    "        for i in range(0, n):\n",
    "            ratings = relevant.loc[relevant.doc_id == ranking[i]].rating.tolist()\n",
    "            if len(ratings) > 0 and ratings[0] >= 2:\n",
    "                recalls[query_id] += 1\n",
    "    return recalls\n",
    "\n",
    "# Constructs a vector which counts the number of retrieved documents for each rating.\n",
    "def get_relevance_vector(qrels, results):\n",
    "    v = np.zeros(qrels.rating.max() + 1)\n",
    "    for query_id in qrels.query_id.unique():\n",
    "        ranking = get_ranking_by_query_id(d, query_id)\n",
    "        relevant = get_relevant_doc_ids(qrels, query_id)\n",
    "        for doc_id in ranking:\n",
    "            rating = relevant.loc[relevant.doc_id == doc_id]['rating']\n",
    "            v[rating] += 1\n",
    "    return v\n",
    "\n",
    "# Given a ranking, return all documents that are relevant, but not in the ranking for the given query.\n",
    "def get_relevant_doc_ids_not_retrieved(qrels, query_id, ranking):\n",
    "    relevant_doc_ids = get_relevant_doc_ids(qrels, query_id).doc_id.tolist()\n",
    "    relevant_doc_ids_not_retrieved = []\n",
    "    for doc_id in relevant_doc_ids:\n",
    "        if not doc_id in ranking:\n",
    "            relevant_doc_ids_not_retrieved.append(doc_id)\n",
    "    return relevant_doc_ids_not_retrieved\n",
    "\n",
    "# Given a ranking, return all documents that are relevant and are in the ranking for the given query.\n",
    "def get_relevant_doc_ids_retrieved(qrels, query_id, ranking):\n",
    "    relevant_doc_ids = get_relevant_doc_ids(qrels, query_id).doc_id.tolist()\n",
    "    relevant_doc_ids_retrieved = []\n",
    "    for doc_id in relevant_doc_ids:\n",
    "        if doc_id in ranking:\n",
    "            relevant_doc_ids_retrieved.append(doc_id)\n",
    "    return relevant_doc_ids_retrieved\n",
    "\n",
    "# Given a ranking, return all documents that are non-relevant and are in the ranking for the given query.\n",
    "def get_non_relevant_doc_ids_retrieved(qrels, query_id, ranking):\n",
    "    non_relevant_doc_ids = get_non_relevant_doc_ids(qrels, query_id).doc_id.tolist()\n",
    "    non_relevant_doc_ids_retrieved = []\n",
    "    for doc_id in non_relevant_doc_ids:\n",
    "        if doc_id in ranking:\n",
    "            non_relevant_doc_ids_retrieved.append(doc_id)\n",
    "    return non_relevant_doc_ids_retrieved\n",
    "\n",
    "\n",
    "\n",
    "# For some reason, qrels contains less unique query ids, i.e., not every query has relevant items (by a long shot).\n",
    "# print(qrels.query_id.unique())\n",
    "# print(d.query_id.unique())"
   ]
  },
  {
   "cell_type": "code",
   "execution_count": 4,
   "metadata": {},
   "outputs": [],
   "source": [
    "def read_queries(loc):\n",
    "    queries = pd.read_csv(loc, header=None, sep='\\t', names=['query_id', 'string'])\n",
    "    return queries\n",
    "\n",
    "def get_query(queries, query_id):\n",
    "    return queries.loc[queries.query_id == query_id].string.tolist()[0]"
   ]
  },
  {
   "cell_type": "code",
   "execution_count": 5,
   "metadata": {},
   "outputs": [],
   "source": [
    "from pyserini.index import IndexReader\n",
    "\n",
    "# Load datafiles:\n",
    "d = read_trec_results(SEPARATOR, MODEL_OUTPUT_PATH)\n",
    "qrels = read_qrels(MSMARCO_QRELS_PATH)\n",
    "queries = read_queries(MSMARCO_QUERIES_PATH)\n",
    "index = IndexReader(INDEX_PATH)"
   ]
  },
  {
   "cell_type": "code",
   "execution_count": 6,
   "metadata": {},
   "outputs": [],
   "source": [
    "# Gets the document vector for the given doc_id.\n",
    "def get_doc_vec(doc_id):\n",
    "    if (type(doc_id) == type(0)):\n",
    "        return index.get_document_vector(\"{}\".format(doc_id))\n",
    "    else:\n",
    "        return index.get_document_vector(doc_id)\n",
    "\n",
    "# Tokenizes a given query.\n",
    "def tokenize(query):\n",
    "    return index.analyze(query)\n",
    "        "
   ]
  },
  {
   "cell_type": "code",
   "execution_count": 7,
   "metadata": {},
   "outputs": [
    {
     "name": "stdout",
     "output_type": "stream",
     "text": [
      "215.34883720930233\n"
     ]
    }
   ],
   "source": [
    "# There are on average ~215 documents per query in the qrels.\n",
    "# This means that a model can only retrieve on average at most 215 documents.\n",
    "print(len(qrels) / len(qrels.query_id.unique()))"
   ]
  },
  {
   "cell_type": "markdown",
   "metadata": {},
   "source": [
    "### 1) Behavior on top relevant documents. How many of the top documents for this system were relevant and could they be categorized and distinguished from others?"
   ]
  },
  {
   "cell_type": "code",
   "execution_count": 8,
   "metadata": {},
   "outputs": [
    {
     "name": "stdout",
     "output_type": "stream",
     "text": [
      "runid                 \tall\tMonoT5\n",
      "num_q                 \tall\t43\n",
      "num_ret               \tall\t4300\n",
      "num_rel               \tall\t4102\n",
      "num_rel_ret           \tall\t1372\n",
      "map                   \tall\t0.3717\n",
      "gm_map                \tall\t0.2770\n",
      "Rprec                 \tall\t0.4059\n",
      "bpref                 \tall\t0.4030\n",
      "recip_rank            \tall\t0.9709\n",
      "iprec_at_recall_0.00  \tall\t0.9756\n",
      "iprec_at_recall_0.10  \tall\t0.8616\n",
      "iprec_at_recall_0.20  \tall\t0.7395\n",
      "iprec_at_recall_0.30  \tall\t0.5837\n",
      "iprec_at_recall_0.40  \tall\t0.3445\n",
      "iprec_at_recall_0.50  \tall\t0.3116\n",
      "iprec_at_recall_0.60  \tall\t0.2391\n",
      "iprec_at_recall_0.70  \tall\t0.1473\n",
      "iprec_at_recall_0.80  \tall\t0.0845\n",
      "iprec_at_recall_0.90  \tall\t0.0537\n",
      "iprec_at_recall_1.00  \tall\t0.0267\n",
      "P_5                   \tall\t0.8977\n",
      "P_10                  \tall\t0.8070\n",
      "P_15                  \tall\t0.7380\n",
      "P_20                  \tall\t0.6930\n",
      "P_30                  \tall\t0.6217\n",
      "P_100                 \tall\t0.3191\n",
      "P_200                 \tall\t0.1595\n",
      "P_500                 \tall\t0.0638\n",
      "P_1000                \tall\t0.0319\n",
      "\n"
     ]
    }
   ],
   "source": [
    "from subprocess import check_output\n",
    "import subprocess\n",
    "\n",
    "# This question can be answered using the calculating the metrics used by the official trec_eval tool.\n",
    "# https://www-nlpir.nist.gov/projects/trecvid/trecvid.tools/trec_eval_video/A.README\n",
    "cmd = subprocess.Popen([TREC_EVAL_PATH, '-c', '-mofficial', MSMARCO_QRELS_PATH, MODEL_OUTPUT_PATH], stdout=subprocess.PIPE)\n",
    "cmd_out, cmd_err = cmd.communicate()\n",
    "print(cmd_out.decode(\"utf-8\"))"
   ]
  },
  {
   "cell_type": "markdown",
   "metadata": {},
   "source": [
    "#### BM25 Results\n",
    "We can see that of the 4102 relevant documents, BM25 managed to find 2814. Furthermore, when we look at the precision metrics, we can see that the most relevant documents are found early on, as the precision at 10 retrieved documents is 60%, but that the precision at 100 retrieved documents is only 30%. This means that BM25 cannot make a clear distinction between relevant and non-relevant documents accross the retreived documents.\n",
    "\n",
    "#### MonoT5 Results\n",
    "(_note that these results are for a k=100, that means only 100 documents are retrieved for a query_)\n",
    "Of the 4102 relevant documents, 916 were retrieved over all queries (1372 of the 4300 retrieved documents were relevant). Observe that the precision is very high over the first few documents (<10) but decreases significantly as more documents are retrieved:\n",
    "\n",
    "|Rank|Precision|\n",
    "|---|---|\n",
    "|5   |0.8977|\n",
    "|10  |0.8070|\n",
    "|15  | 0.7380|\n",
    "|20  |0.6930|\n",
    "|30  |0.6217|\n",
    "|100 |0.3191|\n",
    "\n",
    "Also notice that the mean reciprocal rank is very high (> 0.97). MAP is very low (~ 0.37) but that is probably due to the low amount of documents retrieved by the model (`k=100`) while there could be more than 200 relevant documents for a query."
   ]
  },
  {
   "cell_type": "markdown",
   "metadata": {},
   "source": [
    "### 2) Behavior on top non-relevant documents Why were the top non-relevant documents retrieved? Behavior on unretrieved relevant documents Why weren’t these relevant documents retrieved within the top 1000?"
   ]
  },
  {
   "cell_type": "code",
   "execution_count": 9,
   "metadata": {
    "tags": []
   },
   "outputs": [
    {
     "name": "stdout",
     "output_type": "stream",
     "text": [
      "['caus', 'militari', 'suicid']\n",
      "['ptsd', 'have', 'more', 'than', 'veteran', 'half', 'about', 'problem', 'all', 'like']\n"
     ]
    }
   ],
   "source": [
    "query_id = qrels['query_id'].unique()[3]\n",
    "query = get_query(queries, query_id)\n",
    "ranking = get_ranking_by_query_id(d, query_id)\n",
    "print(tokenize(query))\n",
    "# Functions added:\n",
    "#get_non_relevant_doc_ids_retrieved\n",
    "#get_relevant_doc_ids_retrieved\n",
    "#get_relevant_doc_ids_not_retrieved\n",
    "docs = get_relevant_doc_ids_not_retrieved(qrels, query_id, ranking)\n",
    "doc_vec = get_doc_vec(docs[0])\n",
    "# Print 10 most occuring words in document\n",
    "print([k for k, v in sorted(doc_vec.items(), key=lambda item: item[1], reverse=True)[:10]])"
   ]
  },
  {
   "cell_type": "markdown",
   "metadata": {},
   "source": [
    "#### BM25 Results\n",
    "In this case, synonyms and similar terms for military such as 'veteran' and 'medic' could have helped in finding this document.\n",
    "\n",
    "#### MonoT5 Results\n",
    "We notice that the results that Mono T5 finds that are not relevant are related to _some_ of the tokens in the query. For example for the query: \"causes of military suicide\", non-relevant documents that are retrieved often contain the words \"military\" and \"suicide\" but not both. On the other hand, the relevant documents that are not retrieved often contain a lot of synonyms or related words. For the previous query those are words like: \"ptsd\", \"trama\", \"veteran\", \"vietnam\", \"iraq\". Those are words that humans would know are related to military suicides, but such a system would not be aware of that. This is also true for other queries, another interesting example may be \"does legionella pneumophila cause pneumonia\". Here, the model retrieves relevant documents that contains terms like \"legionella\", \"pneumophila\", \"pneumonia\". But it fails to retrieve relevant documents that contain words like: \"bacteria\", \"disease\" and \"organ\"."
   ]
  },
  {
   "cell_type": "markdown",
   "metadata": {},
   "source": [
    "### 3) Base Query observations. What did the system think were the important terms of the original query, and were they good?\n",
    "\n",
    "#### BM25 Results\n",
    "BM25 has no term weighing? It only removes non-important words.\n",
    "\n",
    "#### MonoT5 Results\n",
    "Is unfortunately not available."
   ]
  },
  {
   "cell_type": "markdown",
   "metadata": {},
   "source": [
    "### 4) Expanded Query observations. If the system expanded the query (4 out of 6 systems did), what were the important terms of the expansion, and were they helpful?\n",
    "\n",
    "#### BM25 Results\n",
    "BM25 Uses no expanded queries.\n",
    "\n",
    "#### MonoT5 Results\n",
    "MonoT5 does not expand queries."
   ]
  },
  {
   "cell_type": "markdown",
   "metadata": {},
   "source": [
    "### 5) Blunders of system. What obvious mistakes did the system make that it could have easily avoided? Examples might be bad stemming of words or bad handling of hyphenation. Other features of note. Anything else.\n",
    "\n",
    "We can answer this question by looking at the queries with the worst recall."
   ]
  },
  {
   "cell_type": "code",
   "execution_count": 12,
   "metadata": {
    "tags": []
   },
   "outputs": [
    {
     "name": "stdout",
     "output_type": "stream",
     "text": [
      "Query: what are the three percenters?\n",
      "Recall: 0\n",
      "['what', 'three', 'percent']\n",
      "{'militia': 1, 'refus': 1, 'govern': 1, 'subject': 1, 'own': 1, '09': 1, 'american': 1, 'british': 1, 'three': 1, 'second': 2, '3per': 1, 'loos': 1, 'bear': 1, 'from': 1, 'up': 1, 'took': 1, 'law': 1, 'king': 1, 'like': 1, 'amend': 2, 'revolutionari': 1, 'patriot': 1, 'onli': 1, 'come': 1, 'carri': 1, 'dure': 1, 'disarm': 1, '3': 3, 'constitut': 1, 'keep': 1, 'firearm': 1, 'name': 1, 'octob': 1, 'who': 1, 'fact': 1, 'against': 1, 'percent': 4, 'revolut': 1, 'we': 3, 'coloni': 1, 'violat': 1, 'arm': 1, 'win': 1, 'vow': 1, 'independ': 1, 'mind': 1, 'war': 1, 'enough': 1, 'right': 1, 'compli': 2, 'affili': 1, 'popul': 1, '2013': 1, 'overthrow': 1}\n",
      "{\n",
      "  \"id\" : \"3423067\",\n",
      "  \"contents\" : \"A loose affiliation of like minded Americans who vow to refuse to comply with laws that violate the second amendment right to keep (own) and bear (carry) firearms. The name 3 percenter comes from the fact that only 3 percent of colonial British subjects took up arms against the King during the revolutionary war. Three percent of the population was enough to overthrow a government and win independence. We are the 3 percenters, we will not comply, we will not be disarmed.. #second amendment #patriot #revolution #militia #constitution. by 3per October 09, 2013.\"\n",
      "}\n"
     ]
    }
   ],
   "source": [
    "rank= 0\n",
    "doc = 0\n",
    "\n",
    "recalls = [(k, v) for k, v in get_recall_per_query(qrels, d, 20).items()]\n",
    "recalls.sort(key=lambda x: x[1])\n",
    "worst_query_id = recalls[rank][0]\n",
    "\n",
    "print('Query:', get_query(queries, worst_query_id))\n",
    "print('Recall:', recalls[rank][1])\n",
    "print(tokenize(get_query(queries, worst_query_id)))\n",
    "\n",
    "relevant = get_relevant_doc_ids_not_retrieved(qrels, worst_query_id, get_ranking_by_query_id(d, worst_query_id))\n",
    "print(get_doc_vec(relevant[doc]))\n",
    "print(index.doc(str(relevant[doc])).raw())\n",
    "\n",
    "# worst_query_id = recalls[2][0]\n",
    "\n",
    "# print(get_query(queries, worst_query_id))\n",
    "# print(tokenize(get_query(queries, worst_query_id)))\n",
    "\n",
    "# relevant = get_relevant_doc_ids_not_retrieved(qrels, worst_query_id, get_ranking_by_query_id(d, worst_query_id))\n",
    "# print(index.doc(str(relevant[0])).raw())\n"
   ]
  },
  {
   "cell_type": "markdown",
   "metadata": {},
   "source": [
    "#### BM25 Results\n",
    "In this case, the problem with the query with the worst performance is that Percenter is reduced to percent, which now matches with any document using the word percent. This is an obvious stemming issue. This could be resolved by using NER information.\n",
    "\n",
    "In the second query, a spelling mistake prevents good retrieval, and again synonyms for WW1 might be useful.\n",
    "\n",
    "#### MonoT5 Results\n",
    "This model uses the same stemmer as the BM25 model and therefore the same mistake is made with regards to the Percenter --> percent. Also acronyms like \"lps\" are reduced to \"lp\" which yields vastly different results.\n"
   ]
  },
  {
   "cell_type": "markdown",
   "metadata": {},
   "source": [
    "### 6) What should system to do improve performance? The individual’s conclusion as to why the system did not retrieve well, and recommendations as to what would have made a better retrieval.\n",
    "\n",
    "#### BM25 Results\n",
    "\n",
    "#### MonoT5 Results\n",
    "It is evident that the mistakes that are made are subtle but can have a profounding impact on the results. Some of the common mistakes that have been observed are that documents are found that match only a part of the query. In addition, the tokenization of the queries may remove crucial information from the query. When looking at queries that the model has missed, it seems that these queries often contain terms that are very much related to the query but are not in the query. The model may improve performance if it could find the semantic context of the query."
   ]
  },
  {
   "cell_type": "markdown",
   "metadata": {},
   "source": [
    "### 7) What added information would help performance? How can system get that information? Is there implicit information in the query, that a human would understand but the system didn’t? Examples might be world knowledge (like Germany is part of Europe)."
   ]
  },
  {
   "cell_type": "markdown",
   "metadata": {},
   "source": [
    "#### BM25 Results\n",
    "In general, similar terms and synonyms could benefit greatly in retrieval as queries are often times very small and might miss key terms. Also, a spell checker may benefit search as some queries showed spelling errors which prevents matching of the same intended word. \n",
    "\n",
    "#### MonoT5 Results\n",
    "By using query expansion to extend the query with other relevant terms, the performance could be significantly improved."
   ]
  }
 ],
 "metadata": {
  "kernelspec": {
   "display_name": "Python 3",
   "language": "python",
   "name": "python3"
  },
  "language_info": {
   "codemirror_mode": {
    "name": "ipython",
    "version": 3
   },
   "file_extension": ".py",
   "mimetype": "text/x-python",
   "name": "python",
   "nbconvert_exporter": "python",
   "pygments_lexer": "ipython3",
   "version": "3.8.5"
  }
 },
 "nbformat": 4,
 "nbformat_minor": 2
}
