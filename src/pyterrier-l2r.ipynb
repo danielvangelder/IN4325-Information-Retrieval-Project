{
 "cells": [
  {
   "cell_type": "markdown",
   "id": "partial-compilation",
   "metadata": {},
   "source": [
    "# Dataset Collection and Indexing"
   ]
  },
  {
   "cell_type": "code",
   "execution_count": 1,
   "id": "increased-algeria",
   "metadata": {
    "scrolled": true
   },
   "outputs": [],
   "source": [
    "CORPUS_PATH = \"collections/msmarco-passage\"\n",
    "COLLECTION = \"trec-deep-learning-passages\"\n",
    "COLLECTION_ZIP_PATH = \"collections/msmarco-passage/collectionandqueries.tar.gz\"\n",
    "import pyterrier as pt\n"
   ]
  },
  {
   "cell_type": "code",
   "execution_count": 2,
   "id": "olive-asset",
   "metadata": {
    "scrolled": true
   },
   "outputs": [
    {
     "name": "stdout",
     "output_type": "stream",
     "text": [
      "PyTerrier 0.4.0 has loaded Terrier 5.4 (built by craigm on 2021-01-16 14:17)\n"
     ]
    }
   ],
   "source": [
    "if not pt.started():\n",
    "  pt.init(mem=8000)\n"
   ]
  },
  {
   "cell_type": "code",
   "execution_count": 16,
   "id": "packed-chocolate",
   "metadata": {},
   "outputs": [
    {
     "name": "stdout",
     "output_type": "stream",
     "text": [
      "14:23:22.496 [ForkJoinPool-1-worker-5] INFO  o.t.structures.indexing.Indexer - Indexer using 1 fields\n"
     ]
    },
    {
     "name": "stderr",
     "output_type": "stream",
     "text": [
      "/Users/danielvangelder/miniconda3/lib/python3.8/site-packages/pyterrier/index.py:551: UserWarning: Using multiple threads results in a non-deterministic ordering of document in the index. For deterministic behavior, use threads=1\n",
      "  warn('Using multiple threads results in a non-deterministic ordering of document in the index. For deterministic behavior, use threads=1')\n"
     ]
    },
    {
     "name": "stdout",
     "output_type": "stream",
     "text": [
      "14:23:22.505 [ForkJoinPool-1-worker-3] INFO  o.t.structures.indexing.Indexer - Indexer using 1 fields\n",
      "14:23:22.570 [ForkJoinPool-1-worker-13] INFO  o.t.structures.indexing.Indexer - Indexer using 1 fields\n",
      "14:23:22.665 [ForkJoinPool-1-worker-1] INFO  o.t.structures.indexing.Indexer - Indexer using 1 fields\n",
      "14:23:22.670 [ForkJoinPool-1-worker-9] INFO  o.t.structures.indexing.Indexer - Indexer using 1 fields\n",
      "14:23:22.672 [ForkJoinPool-1-worker-15] INFO  o.t.structures.indexing.Indexer - Indexer using 1 fields\n",
      "14:23:22.689 [ForkJoinPool-1-worker-11] INFO  o.t.structures.indexing.Indexer - Indexer using 1 fields\n",
      "14:23:22.690 [ForkJoinPool-1-worker-7] INFO  o.t.structures.indexing.Indexer - Indexer using 1 fields\n",
      "14:23:22.723 [ForkJoinPool-1-worker-11] INFO  o.t.structures.indexing.Indexer - creating the data structures data_stream2_1\n",
      "14:23:22.723 [ForkJoinPool-1-worker-15] INFO  o.t.structures.indexing.Indexer - creating the data structures data_stream5_1\n",
      "14:23:22.723 [ForkJoinPool-1-worker-7] INFO  o.t.structures.indexing.Indexer - creating the data structures data_stream1_1\n",
      "14:23:22.724 [ForkJoinPool-1-worker-5] INFO  o.t.structures.indexing.Indexer - creating the data structures data_stream3_1\n",
      "14:23:22.724 [ForkJoinPool-1-worker-13] INFO  o.t.structures.indexing.Indexer - creating the data structures data_stream4_1\n",
      "14:23:22.724 [ForkJoinPool-1-worker-3] INFO  o.t.structures.indexing.Indexer - creating the data structures data_stream0_1\n",
      "14:23:22.725 [ForkJoinPool-1-worker-9] INFO  o.t.structures.indexing.Indexer - creating the data structures data_stream6_1\n",
      "14:23:22.726 [ForkJoinPool-1-worker-1] INFO  o.t.structures.indexing.Indexer - creating the data structures data_stream7_1\n",
      "14:23:22.731 [ForkJoinPool-1-worker-11] INFO  o.t.s.indexing.LexiconBuilder - LexiconBuilder active - flushing every 100000 documents, or when memory threshold hit\n",
      "14:23:22.735 [ForkJoinPool-1-worker-15] INFO  o.t.s.indexing.LexiconBuilder - LexiconBuilder active - flushing every 100000 documents, or when memory threshold hit\n",
      "14:23:22.739 [ForkJoinPool-1-worker-7] INFO  o.t.s.indexing.LexiconBuilder - LexiconBuilder active - flushing every 100000 documents, or when memory threshold hit\n",
      "14:23:22.744 [ForkJoinPool-1-worker-5] INFO  o.t.s.indexing.LexiconBuilder - LexiconBuilder active - flushing every 100000 documents, or when memory threshold hit\n",
      "14:23:22.750 [ForkJoinPool-1-worker-13] INFO  o.t.s.indexing.LexiconBuilder - LexiconBuilder active - flushing every 100000 documents, or when memory threshold hit\n",
      "14:23:22.757 [ForkJoinPool-1-worker-3] INFO  o.t.s.indexing.LexiconBuilder - LexiconBuilder active - flushing every 100000 documents, or when memory threshold hit\n",
      "14:23:22.764 [ForkJoinPool-1-worker-9] INFO  o.t.s.indexing.LexiconBuilder - LexiconBuilder active - flushing every 100000 documents, or when memory threshold hit\n",
      "14:23:22.774 [ForkJoinPool-1-worker-1] INFO  o.t.s.indexing.LexiconBuilder - LexiconBuilder active - flushing every 100000 documents, or when memory threshold hit\n",
      "14:23:49.591 [ForkJoinPool-1-worker-15] WARN  o.t.structures.indexing.Indexer - Adding an empty document to the index (500080) - further warnings are suppressed\n",
      "14:23:51.624 [ForkJoinPool-1-worker-5] WARN  o.t.structures.indexing.Indexer - Adding an empty document to the index (549802) - further warnings are suppressed\n",
      "14:26:43.064 [ForkJoinPool-1-worker-9] WARN  o.t.structures.indexing.Indexer - Adding an empty document to the index (4774775) - further warnings are suppressed\n",
      "14:27:35.845 [ForkJoinPool-1-worker-3] WARN  o.t.structures.indexing.Indexer - Adding an empty document to the index (6114613) - further warnings are suppressed\n",
      "14:28:35.178 [ForkJoinPool-1-worker-13] WARN  o.t.structures.indexing.Indexer - Adding an empty document to the index (7596691) - further warnings are suppressed\n",
      "14:29:21.651 [ForkJoinPool-1-worker-9] INFO  o.t.structures.indexing.Indexer - Collection #0 took 358 seconds to index (1105227 documents)\n",
      "14:29:21.652 [ForkJoinPool-1-worker-5] INFO  o.t.structures.indexing.Indexer - Collection #0 took 358 seconds to index (1105228 documents)\n",
      "14:29:21.653 [ForkJoinPool-1-worker-13] INFO  o.t.structures.indexing.Indexer - Collection #0 took 358 seconds to index (1105228 documents)\n",
      "14:29:21.653 [ForkJoinPool-1-worker-11] INFO  o.t.structures.indexing.Indexer - Collection #0 took 358 seconds to index (1105228 documents)\n",
      "14:29:21.654 [ForkJoinPool-1-worker-1] INFO  o.t.structures.indexing.Indexer - Collection #0 took 358 seconds to index (1105228 documents)\n",
      "14:29:21.655 [ForkJoinPool-1-worker-3] INFO  o.t.structures.indexing.Indexer - Collection #0 took 358 seconds to index (1105228 documents)\n",
      "14:29:21.655 [ForkJoinPool-1-worker-7] INFO  o.t.structures.indexing.Indexer - Collection #0 took 358 seconds to index (1105228 documents)\n",
      "14:29:21.657 [ForkJoinPool-1-worker-9] WARN  o.t.structures.indexing.Indexer - Indexed 1 empty documents\n",
      "14:29:21.659 [ForkJoinPool-1-worker-15] INFO  o.t.structures.indexing.Indexer - Collection #0 took 358 seconds to index (1105228 documents)\n",
      "14:29:21.661 [ForkJoinPool-1-worker-5] WARN  o.t.structures.indexing.Indexer - Indexed 1 empty documents\n",
      "14:29:21.665 [ForkJoinPool-1-worker-13] WARN  o.t.structures.indexing.Indexer - Indexed 1 empty documents\n",
      "14:29:21.680 [ForkJoinPool-1-worker-3] WARN  o.t.structures.indexing.Indexer - Indexed 1 empty documents\n",
      "14:29:21.706 [ForkJoinPool-1-worker-15] WARN  o.t.structures.indexing.Indexer - Indexed 1 empty documents\n",
      "14:29:21.732 [ForkJoinPool-1-worker-11] INFO  o.t.s.indexing.LexiconBuilder - 12 lexicons to merge\n",
      "14:29:21.733 [ForkJoinPool-1-worker-1] INFO  o.t.s.indexing.LexiconBuilder - 12 lexicons to merge\n",
      "14:29:21.771 [ForkJoinPool-1-worker-7] INFO  o.t.s.indexing.LexiconBuilder - 12 lexicons to merge\n",
      "14:29:21.776 [ForkJoinPool-1-worker-9] INFO  o.t.s.indexing.LexiconBuilder - 12 lexicons to merge\n",
      "14:29:21.807 [ForkJoinPool-1-worker-5] INFO  o.t.s.indexing.LexiconBuilder - 12 lexicons to merge\n",
      "14:29:21.822 [ForkJoinPool-1-worker-13] INFO  o.t.s.indexing.LexiconBuilder - 12 lexicons to merge\n",
      "14:29:21.843 [ForkJoinPool-1-worker-3] INFO  o.t.s.indexing.LexiconBuilder - 12 lexicons to merge\n",
      "14:29:21.865 [ForkJoinPool-1-worker-15] INFO  o.t.s.indexing.LexiconBuilder - 12 lexicons to merge\n",
      "14:29:24.534 [ForkJoinPool-1-worker-11] INFO  o.t.s.indexing.LexiconBuilder - Optimising structure lexicon\n",
      "14:29:24.536 [ForkJoinPool-1-worker-7] INFO  o.t.s.indexing.LexiconBuilder - Optimising structure lexicon\n",
      "14:29:24.538 [ForkJoinPool-1-worker-1] INFO  o.t.s.indexing.LexiconBuilder - Optimising structure lexicon\n",
      "14:29:24.540 [ForkJoinPool-1-worker-11] INFO  o.t.s.i.FSOMapFileLexiconUtilities - Optimising lexicon with 379250 entries\n",
      "14:29:24.543 [ForkJoinPool-1-worker-7] INFO  o.t.s.i.FSOMapFileLexiconUtilities - Optimising lexicon with 380235 entries\n",
      "14:29:24.548 [ForkJoinPool-1-worker-1] INFO  o.t.s.i.FSOMapFileLexiconUtilities - Optimising lexicon with 379653 entries\n",
      "14:29:24.585 [ForkJoinPool-1-worker-9] INFO  o.t.s.indexing.LexiconBuilder - Optimising structure lexicon\n",
      "14:29:24.596 [ForkJoinPool-1-worker-9] INFO  o.t.s.i.FSOMapFileLexiconUtilities - Optimising lexicon with 379736 entries\n",
      "14:29:24.674 [ForkJoinPool-1-worker-3] INFO  o.t.s.indexing.LexiconBuilder - Optimising structure lexicon\n",
      "14:29:24.701 [ForkJoinPool-1-worker-13] INFO  o.t.s.indexing.LexiconBuilder - Optimising structure lexicon\n",
      "14:29:24.709 [ForkJoinPool-1-worker-15] INFO  o.t.s.indexing.LexiconBuilder - Optimising structure lexicon\n",
      "14:29:24.712 [ForkJoinPool-1-worker-3] INFO  o.t.s.i.FSOMapFileLexiconUtilities - Optimising lexicon with 380526 entries\n",
      "14:29:24.718 [ForkJoinPool-1-worker-5] INFO  o.t.s.indexing.LexiconBuilder - Optimising structure lexicon\n",
      "14:29:24.727 [ForkJoinPool-1-worker-13] INFO  o.t.s.i.FSOMapFileLexiconUtilities - Optimising lexicon with 379694 entries\n",
      "14:29:24.757 [ForkJoinPool-1-worker-15] INFO  o.t.s.i.FSOMapFileLexiconUtilities - Optimising lexicon with 380165 entries\n",
      "14:29:24.800 [ForkJoinPool-1-worker-5] INFO  o.t.s.i.FSOMapFileLexiconUtilities - Optimising lexicon with 381060 entries\n",
      "14:29:26.726 [ForkJoinPool-1-worker-11] INFO  o.t.structures.indexing.Indexer - Started building the inverted index...\n",
      "14:29:26.727 [ForkJoinPool-1-worker-1] INFO  o.t.structures.indexing.Indexer - Started building the inverted index...\n"
     ]
    },
    {
     "name": "stdout",
     "output_type": "stream",
     "text": [
      "14:29:26.727 [ForkJoinPool-1-worker-9] INFO  o.t.structures.indexing.Indexer - Started building the inverted index...\n",
      "14:29:26.908 [ForkJoinPool-1-worker-7] INFO  o.t.structures.indexing.Indexer - Started building the inverted index...\n",
      "14:29:26.924 [ForkJoinPool-1-worker-11] INFO  o.t.s.i.c.InvertedIndexBuilder - BasicMemSizeLexiconScanner: lexicon scanning until approx 5.7 GiB of memory is consumed\n",
      "14:29:26.924 [ForkJoinPool-1-worker-1] INFO  o.t.s.i.c.InvertedIndexBuilder - BasicMemSizeLexiconScanner: lexicon scanning until approx 5.7 GiB of memory is consumed\n",
      "14:29:26.924 [ForkJoinPool-1-worker-9] INFO  o.t.s.i.c.InvertedIndexBuilder - BasicMemSizeLexiconScanner: lexicon scanning until approx 5.7 GiB of memory is consumed\n",
      "14:29:27.270 [ForkJoinPool-1-worker-7] INFO  o.t.s.i.c.InvertedIndexBuilder - BasicMemSizeLexiconScanner: lexicon scanning until approx 5.7 GiB of memory is consumed\n",
      "14:29:27.271 [ForkJoinPool-1-worker-3] INFO  o.t.structures.indexing.Indexer - Started building the inverted index...\n",
      "14:29:27.275 [ForkJoinPool-1-worker-11] INFO  o.t.s.i.c.InvertedIndexBuilder - Iteration 1 of 1 (estimated) iterations\n",
      "14:29:27.282 [ForkJoinPool-1-worker-1] INFO  o.t.s.i.c.InvertedIndexBuilder - Iteration 1 of 1 (estimated) iterations\n",
      "14:29:27.572 [ForkJoinPool-1-worker-13] INFO  o.t.structures.indexing.Indexer - Started building the inverted index...\n",
      "14:29:27.572 [ForkJoinPool-1-worker-9] INFO  o.t.s.i.c.InvertedIndexBuilder - Iteration 1 of 1 (estimated) iterations\n",
      "14:29:27.575 [ForkJoinPool-1-worker-7] INFO  o.t.s.i.c.InvertedIndexBuilder - Iteration 1 of 1 (estimated) iterations\n",
      "14:29:27.579 [ForkJoinPool-1-worker-3] INFO  o.t.s.i.c.InvertedIndexBuilder - BasicMemSizeLexiconScanner: lexicon scanning until approx 5.7 GiB of memory is consumed\n",
      "14:29:27.601 [ForkJoinPool-1-worker-13] INFO  o.t.s.i.c.InvertedIndexBuilder - BasicMemSizeLexiconScanner: lexicon scanning until approx 5.7 GiB of memory is consumed\n",
      "14:29:27.907 [ForkJoinPool-1-worker-15] INFO  o.t.structures.indexing.Indexer - Started building the inverted index...\n",
      "14:29:27.916 [ForkJoinPool-1-worker-3] INFO  o.t.s.i.c.InvertedIndexBuilder - Iteration 1 of 1 (estimated) iterations\n",
      "14:29:27.922 [ForkJoinPool-1-worker-13] INFO  o.t.s.i.c.InvertedIndexBuilder - Iteration 1 of 1 (estimated) iterations\n",
      "14:29:27.927 [ForkJoinPool-1-worker-15] INFO  o.t.s.i.c.InvertedIndexBuilder - BasicMemSizeLexiconScanner: lexicon scanning until approx 5.7 GiB of memory is consumed\n",
      "14:29:27.952 [ForkJoinPool-1-worker-15] INFO  o.t.s.i.c.InvertedIndexBuilder - Iteration 1 of 1 (estimated) iterations\n",
      "14:29:28.272 [ForkJoinPool-1-worker-5] INFO  o.t.structures.indexing.Indexer - Started building the inverted index...\n",
      "14:29:28.293 [ForkJoinPool-1-worker-5] INFO  o.t.s.i.c.InvertedIndexBuilder - BasicMemSizeLexiconScanner: lexicon scanning until approx 5.6 GiB of memory is consumed\n",
      "14:29:28.322 [ForkJoinPool-1-worker-5] INFO  o.t.s.i.c.InvertedIndexBuilder - Iteration 1 of 1 (estimated) iterations\n",
      "14:30:02.553 [ForkJoinPool-1-worker-11] INFO  o.t.s.indexing.LexiconBuilder - Optimising structure lexicon\n",
      "14:30:02.704 [ForkJoinPool-1-worker-3] INFO  o.t.s.indexing.LexiconBuilder - Optimising structure lexicon\n",
      "14:30:02.711 [ForkJoinPool-1-worker-11] INFO  o.t.s.indexing.LexiconBuilder - lexicon has 1 fields\n",
      "14:30:02.845 [ForkJoinPool-1-worker-15] INFO  o.t.s.indexing.LexiconBuilder - Optimising structure lexicon\n",
      "14:30:02.847 [ForkJoinPool-1-worker-3] INFO  o.t.s.indexing.LexiconBuilder - lexicon has 1 fields\n",
      "14:30:02.854 [ForkJoinPool-1-worker-11] INFO  o.t.s.i.FSOMapFileLexiconUtilities - Optimising lexicon with 379250 entries\n",
      "14:30:02.864 [ForkJoinPool-1-worker-15] INFO  o.t.s.indexing.LexiconBuilder - lexicon has 1 fields\n",
      "14:30:02.870 [ForkJoinPool-1-worker-3] INFO  o.t.s.i.FSOMapFileLexiconUtilities - Optimising lexicon with 380526 entries\n",
      "14:30:02.895 [ForkJoinPool-1-worker-15] INFO  o.t.s.i.FSOMapFileLexiconUtilities - Optimising lexicon with 380165 entries\n",
      "14:30:03.042 [ForkJoinPool-1-worker-5] INFO  o.t.s.indexing.LexiconBuilder - Optimising structure lexicon\n",
      "14:30:03.194 [ForkJoinPool-1-worker-1] INFO  o.t.s.indexing.LexiconBuilder - Optimising structure lexicon\n",
      "14:30:03.228 [ForkJoinPool-1-worker-5] INFO  o.t.s.indexing.LexiconBuilder - lexicon has 1 fields\n",
      "14:30:03.261 [ForkJoinPool-1-worker-1] INFO  o.t.s.indexing.LexiconBuilder - lexicon has 1 fields\n",
      "14:30:03.279 [ForkJoinPool-1-worker-5] INFO  o.t.s.i.FSOMapFileLexiconUtilities - Optimising lexicon with 381060 entries\n",
      "14:30:03.416 [ForkJoinPool-1-worker-13] INFO  o.t.s.indexing.LexiconBuilder - Optimising structure lexicon\n",
      "14:30:03.427 [ForkJoinPool-1-worker-1] INFO  o.t.s.i.FSOMapFileLexiconUtilities - Optimising lexicon with 379653 entries\n",
      "14:30:03.474 [ForkJoinPool-1-worker-13] INFO  o.t.s.indexing.LexiconBuilder - lexicon has 1 fields\n",
      "14:30:03.651 [ForkJoinPool-1-worker-7] INFO  o.t.s.indexing.LexiconBuilder - Optimising structure lexicon\n",
      "14:30:03.669 [ForkJoinPool-1-worker-13] INFO  o.t.s.i.FSOMapFileLexiconUtilities - Optimising lexicon with 379694 entries\n",
      "14:30:03.825 [ForkJoinPool-1-worker-9] INFO  o.t.s.indexing.LexiconBuilder - Optimising structure lexicon\n",
      "14:30:03.825 [ForkJoinPool-1-worker-7] INFO  o.t.s.indexing.LexiconBuilder - lexicon has 1 fields\n",
      "14:30:03.869 [ForkJoinPool-1-worker-9] INFO  o.t.s.indexing.LexiconBuilder - lexicon has 1 fields\n",
      "14:30:03.896 [ForkJoinPool-1-worker-7] INFO  o.t.s.i.FSOMapFileLexiconUtilities - Optimising lexicon with 380235 entries\n",
      "14:30:03.924 [ForkJoinPool-1-worker-9] INFO  o.t.s.i.FSOMapFileLexiconUtilities - Optimising lexicon with 379736 entries\n",
      "14:30:04.247 [ForkJoinPool-1-worker-11] INFO  o.t.structures.indexing.Indexer - Finished building the inverted index...\n",
      "14:30:04.265 [ForkJoinPool-1-worker-11] INFO  o.t.structures.indexing.Indexer - Time elapsed for inverted file: 37\n",
      "14:30:04.284 [ForkJoinPool-1-worker-3] INFO  o.t.structures.indexing.Indexer - Finished building the inverted index...\n",
      "14:30:04.290 [ForkJoinPool-1-worker-15] INFO  o.t.structures.indexing.Indexer - Finished building the inverted index...\n",
      "14:30:04.300 [ForkJoinPool-1-worker-3] INFO  o.t.structures.indexing.Indexer - Time elapsed for inverted file: 37\n",
      "14:30:04.303 [ForkJoinPool-1-worker-15] INFO  o.t.structures.indexing.Indexer - Time elapsed for inverted file: 36\n",
      "14:30:04.365 [ForkJoinPool-1-worker-5] INFO  o.t.structures.indexing.Indexer - Finished building the inverted index...\n",
      "14:30:04.413 [ForkJoinPool-1-worker-5] INFO  o.t.structures.indexing.Indexer - Time elapsed for inverted file: 36\n",
      "14:30:04.434 [ForkJoinPool-1-worker-1] INFO  o.t.structures.indexing.Indexer - Finished building the inverted index...\n",
      "14:30:04.466 [ForkJoinPool-1-worker-1] INFO  o.t.structures.indexing.Indexer - Time elapsed for inverted file: 37\n",
      "14:30:04.523 [ForkJoinPool-1-worker-13] INFO  o.t.structures.indexing.Indexer - Finished building the inverted index...\n",
      "14:30:04.570 [ForkJoinPool-1-worker-13] INFO  o.t.structures.indexing.Indexer - Time elapsed for inverted file: 36\n",
      "14:30:04.604 [ForkJoinPool-1-worker-7] INFO  o.t.structures.indexing.Indexer - Finished building the inverted index...\n",
      "14:30:04.628 [ForkJoinPool-1-worker-7] INFO  o.t.structures.indexing.Indexer - Time elapsed for inverted file: 37\n",
      "14:30:04.712 [ForkJoinPool-1-worker-9] INFO  o.t.structures.indexing.Indexer - Finished building the inverted index...\n",
      "14:30:04.742 [ForkJoinPool-1-worker-9] INFO  o.t.structures.indexing.Indexer - Time elapsed for inverted file: 37\n",
      "14:30:14.545 [ForkJoinPool-1-worker-3] INFO  o.t.s.merging.StructureMerger - merged inverted files in 10.231\n",
      "14:30:14.548 [ForkJoinPool-1-worker-3] INFO  o.t.s.indexing.LexiconBuilder - Optimising structure lexicon\n",
      "14:30:14.552 [ForkJoinPool-1-worker-3] INFO  o.t.s.indexing.LexiconBuilder - lexicon has 1 fields\n",
      "14:30:14.556 [ForkJoinPool-1-worker-3] INFO  o.t.s.i.FSOMapFileLexiconUtilities - Optimising lexicon with 555054 entries\n",
      "14:30:14.571 [ForkJoinPool-1-worker-13] INFO  o.t.s.merging.StructureMerger - merged inverted files in 9.96\n",
      "14:30:14.574 [ForkJoinPool-1-worker-7] INFO  o.t.s.merging.StructureMerger - merged inverted files in 9.896\n",
      "14:30:14.576 [ForkJoinPool-1-worker-13] INFO  o.t.s.indexing.LexiconBuilder - Optimising structure lexicon\n"
     ]
    },
    {
     "name": "stdout",
     "output_type": "stream",
     "text": [
      "14:30:14.581 [ForkJoinPool-1-worker-7] INFO  o.t.s.indexing.LexiconBuilder - Optimising structure lexicon\n",
      "14:30:14.582 [ForkJoinPool-1-worker-9] INFO  o.t.s.merging.StructureMerger - merged inverted files in 9.802\n",
      "14:30:14.586 [ForkJoinPool-1-worker-13] INFO  o.t.s.indexing.LexiconBuilder - lexicon has 1 fields\n",
      "14:30:14.590 [ForkJoinPool-1-worker-7] INFO  o.t.s.indexing.LexiconBuilder - lexicon has 1 fields\n",
      "14:30:14.594 [ForkJoinPool-1-worker-9] INFO  o.t.s.indexing.LexiconBuilder - Optimising structure lexicon\n",
      "14:30:14.602 [ForkJoinPool-1-worker-13] INFO  o.t.s.i.FSOMapFileLexiconUtilities - Optimising lexicon with 554862 entries\n",
      "14:30:14.611 [ForkJoinPool-1-worker-7] INFO  o.t.s.i.FSOMapFileLexiconUtilities - Optimising lexicon with 555066 entries\n",
      "14:30:14.617 [ForkJoinPool-1-worker-9] INFO  o.t.s.indexing.LexiconBuilder - lexicon has 1 fields\n",
      "14:30:14.642 [ForkJoinPool-1-worker-9] INFO  o.t.s.i.FSOMapFileLexiconUtilities - Optimising lexicon with 553702 entries\n",
      "14:30:15.043 [ForkJoinPool-1-worker-3] INFO  o.t.structures.CompressingMetaIndex - Structure meta reading lookup file into memory\n",
      "14:30:15.098 [ForkJoinPool-1-worker-3] INFO  o.t.structures.CompressingMetaIndex - Structure meta loading data file into memory\n",
      "14:30:15.099 [ForkJoinPool-1-worker-13] INFO  o.t.structures.CompressingMetaIndex - Structure meta reading lookup file into memory\n",
      "14:30:15.124 [ForkJoinPool-1-worker-7] INFO  o.t.structures.CompressingMetaIndex - Structure meta reading lookup file into memory\n",
      "14:30:15.134 [ForkJoinPool-1-worker-9] INFO  o.t.structures.CompressingMetaIndex - Structure meta reading lookup file into memory\n",
      "14:30:15.338 [ForkJoinPool-1-worker-13] INFO  o.t.structures.CompressingMetaIndex - Structure meta loading data file into memory\n",
      "14:30:15.360 [ForkJoinPool-1-worker-7] INFO  o.t.structures.CompressingMetaIndex - Structure meta loading data file into memory\n",
      "14:30:15.364 [ForkJoinPool-1-worker-9] INFO  o.t.structures.CompressingMetaIndex - Structure meta loading data file into memory\n",
      "14:32:07.553 [ForkJoinPool-1-worker-3] INFO  o.t.structures.CompressingMetaIndex - Structure meta reading lookup file into memory\n",
      "14:32:07.605 [ForkJoinPool-1-worker-3] INFO  o.t.structures.CompressingMetaIndex - Structure meta loading data file into memory\n",
      "14:32:08.121 [ForkJoinPool-1-worker-13] INFO  o.t.structures.CompressingMetaIndex - Structure meta reading lookup file into memory\n",
      "14:32:08.174 [ForkJoinPool-1-worker-13] INFO  o.t.structures.CompressingMetaIndex - Structure meta loading data file into memory\n",
      "14:32:08.397 [ForkJoinPool-1-worker-9] INFO  o.t.structures.CompressingMetaIndex - Structure meta reading lookup file into memory\n",
      "14:32:08.450 [ForkJoinPool-1-worker-9] INFO  o.t.structures.CompressingMetaIndex - Structure meta loading data file into memory\n",
      "14:32:08.668 [ForkJoinPool-1-worker-7] INFO  o.t.structures.CompressingMetaIndex - Structure meta reading lookup file into memory\n",
      "14:32:08.725 [ForkJoinPool-1-worker-7] INFO  o.t.structures.CompressingMetaIndex - Structure meta loading data file into memory\n",
      "14:34:06.643 [ForkJoinPool-1-worker-3] INFO  o.t.s.merging.StructureMerger - merged direct files in 231.602\n",
      "14:34:06.765 [ForkJoinPool-1-worker-13] INFO  o.t.s.merging.StructureMerger - merged direct files in 231.668\n",
      "14:34:07.191 [ForkJoinPool-1-worker-9] INFO  o.t.s.merging.StructureMerger - merged direct files in 232.06\n",
      "14:34:07.337 [ForkJoinPool-1-worker-7] INFO  o.t.s.merging.StructureMerger - merged direct files in 232.215\n",
      "14:34:22.324 [ForkJoinPool-1-worker-9] INFO  o.t.s.merging.StructureMerger - merged inverted files in 15.044\n",
      "14:34:22.327 [ForkJoinPool-1-worker-9] INFO  o.t.s.indexing.LexiconBuilder - Optimising structure lexicon\n",
      "14:34:22.330 [ForkJoinPool-1-worker-9] INFO  o.t.s.indexing.LexiconBuilder - lexicon has 1 fields\n",
      "14:34:22.333 [ForkJoinPool-1-worker-9] INFO  o.t.s.i.FSOMapFileLexiconUtilities - Optimising lexicon with 809253 entries\n",
      "14:34:22.364 [ForkJoinPool-1-worker-7] INFO  o.t.s.merging.StructureMerger - merged inverted files in 14.906\n",
      "14:34:22.369 [ForkJoinPool-1-worker-7] INFO  o.t.s.indexing.LexiconBuilder - Optimising structure lexicon\n",
      "14:34:22.377 [ForkJoinPool-1-worker-7] INFO  o.t.s.indexing.LexiconBuilder - lexicon has 1 fields\n",
      "14:34:22.382 [ForkJoinPool-1-worker-7] INFO  o.t.s.i.FSOMapFileLexiconUtilities - Optimising lexicon with 809858 entries\n",
      "14:34:22.971 [ForkJoinPool-1-worker-9] INFO  o.t.structures.CompressingMetaIndex - Structure meta reading lookup file into memory\n",
      "14:34:23.021 [ForkJoinPool-1-worker-7] INFO  o.t.structures.CompressingMetaIndex - Structure meta reading lookup file into memory\n",
      "14:34:23.046 [ForkJoinPool-1-worker-9] WARN  o.t.structures.CompressingMetaIndex - Structure meta reading data file directly from disk (SLOW) - try index.meta.data-source=fileinmem in the index properties file. 545.9 MiB of memory would be required.\n",
      "14:34:23.098 [ForkJoinPool-1-worker-7] WARN  o.t.structures.CompressingMetaIndex - Structure meta reading data file directly from disk (SLOW) - try index.meta.data-source=fileinmem in the index properties file. 545.9 MiB of memory would be required.\n",
      "14:37:56.995 [ForkJoinPool-1-worker-7] INFO  o.t.structures.CompressingMetaIndex - Structure meta reading lookup file into memory\n",
      "14:37:57.067 [ForkJoinPool-1-worker-7] WARN  o.t.structures.CompressingMetaIndex - Structure meta reading data file directly from disk (SLOW) - try index.meta.data-source=fileinmem in the index properties file. 546 MiB of memory would be required.\n",
      "14:37:57.179 [ForkJoinPool-1-worker-9] INFO  o.t.structures.CompressingMetaIndex - Structure meta reading lookup file into memory\n",
      "14:37:57.249 [ForkJoinPool-1-worker-9] WARN  o.t.structures.CompressingMetaIndex - Structure meta reading data file directly from disk (SLOW) - try index.meta.data-source=fileinmem in the index properties file. 546 MiB of memory would be required.\n",
      "14:41:41.126 [ForkJoinPool-1-worker-9] INFO  o.t.s.merging.StructureMerger - merged direct files in 438.156\n",
      "14:41:41.960 [ForkJoinPool-1-worker-7] INFO  o.t.s.merging.StructureMerger - merged direct files in 438.941\n",
      "14:42:11.822 [ForkJoinPool-1-worker-7] INFO  o.t.s.merging.StructureMerger - merged inverted files in 29.75\n",
      "14:42:11.825 [ForkJoinPool-1-worker-7] INFO  o.t.s.indexing.LexiconBuilder - Optimising structure lexicon\n",
      "14:42:11.828 [ForkJoinPool-1-worker-7] INFO  o.t.s.indexing.LexiconBuilder - lexicon has 1 fields\n",
      "14:42:11.830 [ForkJoinPool-1-worker-7] INFO  o.t.s.i.FSOMapFileLexiconUtilities - Optimising lexicon with 1170682 entries\n",
      "14:42:12.689 [ForkJoinPool-1-worker-7] INFO  o.t.structures.CompressingMetaIndex - Structure meta reading lookup file into memory\n",
      "14:42:12.821 [ForkJoinPool-1-worker-7] WARN  o.t.structures.CompressingMetaIndex - Structure meta reading data file directly from disk (SLOW) - try index.meta.data-source=fileinmem in the index properties file. 1.1 GiB of memory would be required.\n",
      "14:49:34.743 [ForkJoinPool-1-worker-7] INFO  o.t.structures.CompressingMetaIndex - Structure meta reading lookup file into memory\n",
      "14:49:34.880 [ForkJoinPool-1-worker-7] WARN  o.t.structures.CompressingMetaIndex - Structure meta reading data file directly from disk (SLOW) - try index.meta.data-source=fileinmem in the index properties file. 1.1 GiB of memory would be required.\n",
      "14:57:18.497 [ForkJoinPool-1-worker-7] INFO  o.t.s.merging.StructureMerger - merged direct files in 905.809\n"
     ]
    }
   ],
   "source": [
    "\n",
    "dataset = pt.get_dataset(\"trec-deep-learning-passages\")\n",
    "def msmarco_generate():\n",
    "    with pt.io.autoopen(dataset.get_corpus()[0], 'rt') as corpusfile:\n",
    "        for l in corpusfile:\n",
    "            docno, passage = l.split(\"\\t\")\n",
    "            yield {'docno' : docno, 'text' : passage}\n",
    "\n",
    "# Single threaded indexing           \n",
    "# iter_indexer = pt.IterDictIndexer(\"./passage_index\")\n",
    "# indexref3 = iter_indexer.index(msmarco_generate(), meta=['docno', 'text'], meta_lengths=[20, 4096])            \n",
    "\n",
    "# Multi threaded indexing, UNIX-based systems only!!!!!           \n",
    "iter_indexer = pt.IterDictIndexer(\"./passage_index_8\", threads=8)\n",
    "indexref4 = iter_indexer.index(msmarco_generate(), meta=['docno', 'text'], meta_lengths=[20, 4096])"
   ]
  },
  {
   "cell_type": "code",
   "execution_count": 17,
   "id": "neutral-kitty",
   "metadata": {},
   "outputs": [
    {
     "name": "stdout",
     "output_type": "stream",
     "text": [
      "Number of documents: 8841823\n",
      "Number of terms: 1170682\n",
      "Number of postings: 215238456\n",
      "Number of fields: 1\n",
      "Number of tokens: 288759529\n",
      "Field names: [text]\n",
      "Positions:   false\n",
      "\n"
     ]
    }
   ],
   "source": [
    "pt.logging('WARN')\n",
    "index = pt.IndexFactory.of(indexref4)\n",
    "print(index.getCollectionStatistics().toString())"
   ]
  },
  {
   "cell_type": "markdown",
   "id": "incorporate-updating",
   "metadata": {},
   "source": [
    "# Feature Extraction"
   ]
  },
  {
   "cell_type": "code",
   "execution_count": 15,
   "id": "external-farming",
   "metadata": {},
   "outputs": [],
   "source": [
    "pipeline = pt.FeaturesBatchRetrieve(index, wmodel=\"BM25\", features=[\"WMODEL:BM25\",\"WMODEL:Tf\", \"WMODEL:PL2\"])"
   ]
  },
  {
   "cell_type": "markdown",
   "id": "nearby-terrorist",
   "metadata": {},
   "source": [
    "# Learning to rank with LambdaMART"
   ]
  },
  {
   "cell_type": "code",
   "execution_count": null,
   "id": "permanent-brisbane",
   "metadata": {},
   "outputs": [],
   "source": [
    "import lightgbm as lgb\n",
    "# this configures LightGBM as LambdaMART lmart_l = lgb.LGBMRanker(task=\"train\",\n",
    "    min_data_in_leaf=1,\n",
    "    min_sum_hessian_in_leaf=100,\n",
    "    max_bin=255,\n",
    "    num_leaves=7,\n",
    "    objective=\"lambdarank\",\n",
    "    metric=\"ndcg\",\n",
    "    ndcg_eval_at=[1, 3, 5, 10],\n",
    "    learning_rate= .1,\n",
    "    importance_type=\"gain\",\n",
    "    num_iterations=10)\n",
    "lmart_l_pipe = pipeline >> pt.ltr.apply_learned_model(lmart_l, form=\"ltr\")\n",
    "lmart_l_pipe.fit(train_topics, train_qrels, validation_topics, validation_qrels)\n",
    "pt.Experiment(\n",
    "    [bm25, lmart_x_pipe, lmart_l_pipe],\n",
    "    test_topics,\n",
    "    test_qrels,\n",
    "    [\"map\"],\n",
    "    names=[\"BM25 Baseline\", \"LambdaMART (xgBoost)\", \"LambdaMART (LightGBM)\" ]\n",
    ")"
   ]
  }
 ],
 "metadata": {
  "kernelspec": {
   "display_name": "Python 3",
   "language": "python",
   "name": "python3"
  },
  "language_info": {
   "codemirror_mode": {
    "name": "ipython",
    "version": 3
   },
   "file_extension": ".py",
   "mimetype": "text/x-python",
   "name": "python",
   "nbconvert_exporter": "python",
   "pygments_lexer": "ipython3",
   "version": "3.8.5"
  }
 },
 "nbformat": 4,
 "nbformat_minor": 5
}
