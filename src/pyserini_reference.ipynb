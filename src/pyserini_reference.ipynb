{
 "metadata": {
  "language_info": {
   "codemirror_mode": {
    "name": "ipython",
    "version": 3
   },
   "file_extension": ".py",
   "mimetype": "text/x-python",
   "name": "python",
   "nbconvert_exporter": "python",
   "pygments_lexer": "ipython3",
   "version": "3.7.9-final"
  },
  "orig_nbformat": 2,
  "kernelspec": {
   "name": "python3",
   "display_name": "Python 3",
   "language": "python"
  }
 },
 "nbformat": 4,
 "nbformat_minor": 2,
 "cells": [
  {
   "cell_type": "code",
   "execution_count": 8,
   "metadata": {},
   "outputs": [
    {
     "output_type": "stream",
     "name": "stdout",
     "text": [
      "5578280 8.106900215148926\n2016011 7.880499839782715\n7004677 7.646299839019775\n"
     ]
    }
   ],
   "source": [
    "from pyserini.index import IndexReader\n",
    "from pyserini.search import SimpleSearcher\n",
    "from pyserini.search import get_topics\n",
    "\n",
    "# Location of the generated index\n",
    "index_loc = \"../anserini/indexes/msmarco-passage/lucene-index-msmarco\"\n",
    "\n",
    "# Create a searcher object\n",
    "searcher = SimpleSearcher(index_loc)\n",
    "# Set the active scorer to BM25\n",
    "searcher.set_bm25(k1=0.9, b=0.4)\n",
    "# Fetch 3 results for the given test query\n",
    "results = searcher.search('this is a test query', k=3)\n",
    "# For all results print the docid and the score\n",
    "for result in results:\n",
    "    print(result.docid, result.score)\n",
    "    # Can also print the raw text of the matched document.\n",
    "    #print(result.raw)"
   ]
  },
  {
   "cell_type": "code",
   "execution_count": 9,
   "metadata": {},
   "outputs": [
    {
     "output_type": "stream",
     "name": "stdout",
     "text": [
      "{'total_terms': 352316036, 'documents': 8841823, 'non_empty_documents': 8841823, 'unique_terms': -1}\n{'code': 1, 'string': 2, 'paramet': 2, 'construct': 1, 'manual': 1, 'can': 2, 'either': 1, 'queri': 4, \"you'r\": 3, 'tag': 2, 'write': 3, 'us': 3, 'you': 2, 'add': 2, 'parameter:if': 2, 'setparamet': 2, 'apexpages.currentpag': 2, 'set': 2, 'method': 4, 'test': 2, 'edit': 1, 'cleaner': 1, 'custom': 2, 'control': 2, 'url': 1, '1': 1, '2': 1, '3': 1, '4': 1, 'exampl': 1, 'page': 1, 'child': 1}\n"
     ]
    }
   ],
   "source": [
    "# IndexeReader can give information about the index\n",
    "indexer = IndexReader(index_loc)\n",
    "# Print stats (number of terms/documents/etc.)\n",
    "print(indexer.stats())\n",
    "# Can print the document vector of the given docid\n",
    "print(indexer.get_document_vector(results[0].docid))\n"
   ]
  },
  {
   "cell_type": "code",
   "execution_count": 27,
   "metadata": {
    "tags": []
   },
   "outputs": [
    {
     "output_type": "stream",
     "name": "stdout",
     "text": [
      "why do people grind teeth in sleep\n{\n  \"id\" : \"7867446\",\n  \"contents\" : \"Do you suffer from frequent headaches and jaw pain? Do you wake up with a dull headache and sore jaw? Do you grind your teeth at night? It could be Bruxism or teeth grinding. Why do people grind their teeth? Teeth grinding often occurs during sleep and it might be caused by an abnormal bite or missing teeth. Teeth grinding may also occur due to a sleep disorder, such as sleep apnea or due to stress and anxiety. How do I know if I am grinding my teeth at night?\"\n}\n{'anxieti': 1, 'headach': 2, 'abnorm': 1, 'frequent': 1, 'why': 1, 'do': 5, 'your': 1, 'miss': 1, 'peopl': 1, 'sleep': 3, 'how': 1, 'caus': 1, 'suffer': 1, 'wake': 1, 'mai': 1, 'bite': 1, 'from': 1, 'teeth': 7, 'up': 1, 'you': 3, 'jaw': 2, 'stress': 1, 'pain': 1, 'bruxism': 1, 'could': 1, 'might': 1, 'occur': 2, 'night': 2, 'i': 2, 'also': 1, 'often': 1, 'dure': 1, 'am': 1, 'my': 1, 'apnea': 1, 'disord': 1, 'grind': 6, 'due': 2, 'know': 1, 'sore': 1, 'dull': 1}\n"
     ]
    }
   ],
   "source": [
    "# Fetch the dev queries of msmarco\n",
    "topics = get_topics('msmarco_passage_dev_subset')\n",
    "# Print the first entry of the topic list\n",
    "first_query = topics[list(topics.keys())[0]]['title']\n",
    "print(first_query)\n",
    "# Search the most relevant item in the index\n",
    "doc = searcher.search(first_query, k=1)[0]\n",
    "print(doc.raw)\n",
    "# Print the document vector of the matching document\n",
    "print(indexer.get_document_vector(doc.docid))"
   ]
  },
  {
   "cell_type": "code",
   "execution_count": 28,
   "metadata": {},
   "outputs": [
    {
     "output_type": "execute_result",
     "data": {
      "text/plain": [
       "['test',\n",
       " 'queri',\n",
       " 'which',\n",
       " 'thing',\n",
       " 'test',\n",
       " 'found',\n",
       " 'us',\n",
       " 'www.google.com',\n",
       " 'cours']"
      ]
     },
     "metadata": {},
     "execution_count": 28
    }
   ],
   "source": [
    "# Using the pyserini tokenizer/stemmer/etc. to create queries from scratch\n",
    "query = \"This is a test query in which things are tested. Found using www.google.com of course!\"\n",
    "# Tokenizing in pyserini is called Analyzing\n",
    "indexer.analyze(query)"
   ]
  },
  {
   "cell_type": "code",
   "execution_count": null,
   "metadata": {},
   "outputs": [],
   "source": []
  }
 ]
}